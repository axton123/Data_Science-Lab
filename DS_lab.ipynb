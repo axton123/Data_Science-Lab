{
  "nbformat": 4,
  "nbformat_minor": 0,
  "metadata": {
    "colab": {
      "name": "DS lab.ipynb",
      "provenance": [],
      "collapsed_sections": [],
      "authorship_tag": "ABX9TyMSozWvzj40NcBi10pKvHyl",
      "include_colab_link": true
    },
    "kernelspec": {
      "name": "python3",
      "display_name": "Python 3"
    },
    "language_info": {
      "name": "python"
    }
  },
  "cells": [
    {
      "cell_type": "markdown",
      "metadata": {
        "id": "view-in-github",
        "colab_type": "text"
      },
      "source": [
        "<a href=\"https://colab.research.google.com/github/axton123/Data_Science-Lab/blob/main/DS_lab.ipynb\" target=\"_parent\"><img src=\"https://colab.research.google.com/assets/colab-badge.svg\" alt=\"Open In Colab\"/></a>"
      ]
    },
    {
      "cell_type": "code",
      "execution_count": null,
      "metadata": {
        "id": "FetcoHfBbdiR"
      },
      "outputs": [],
      "source": [
        "print(\"abcd\")"
      ]
    },
    {
      "cell_type": "markdown",
      "source": [
        "ds lab"
      ],
      "metadata": {
        "id": "LuVGcYFpnskC"
      }
    },
    {
      "cell_type": "code",
      "source": [
        "import numpy as np\n",
        "\n",
        "a = np.array([1,2,3])\n",
        "print(\"%s\" %type(a))\n",
        "print(\"%s\" %a.shape)\n",
        "\n",
        "print(a)\n",
        "print(a[0],a[1],a[2])\n",
        "a[0]=5\n",
        "print(a)\n"
      ],
      "metadata": {
        "id": "lt7z2oF9SupD"
      },
      "execution_count": null,
      "outputs": []
    },
    {
      "cell_type": "code",
      "source": [
        "b = np.array([[1,2,3],\n",
        "              [4,5,6]])\n",
        "\n",
        "print(\"\\nShape of b:\",b.shape)\n",
        "\n",
        "print(b[0,0],\n",
        "      b[0,1],\n",
        "      b[1,0])"
      ],
      "metadata": {
        "id": "Qj-CqbV7jcI7"
      },
      "execution_count": null,
      "outputs": []
    },
    {
      "cell_type": "code",
      "source": [
        "a = np.zeros((3,2))\n",
        "print(\"ALL zeros:\\n%s\"%a)\n",
        "\n",
        "b = np.ones((2,2))\n",
        "print(\"\\nOnes mat:\\n%s\"%b)\n",
        "\n",
        "d = np.eye(5)\n",
        "print(\"\\nidentity mat:\\n%s\"%d)\n",
        "\n",
        "e = np.random.random"
      ],
      "metadata": {
        "id": "Qzmph47wTm-u"
      },
      "execution_count": null,
      "outputs": []
    }
  ]
}