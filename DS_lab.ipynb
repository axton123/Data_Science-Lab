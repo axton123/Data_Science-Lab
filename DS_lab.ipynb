{
  "nbformat": 4,
  "nbformat_minor": 0,
  "metadata": {
    "colab": {
      "name": "DS lab.ipynb",
      "provenance": [],
      "collapsed_sections": [],
      "authorship_tag": "ABX9TyMEjzeEvfz4FMLL1iuNho4V",
      "include_colab_link": true
    },
    "kernelspec": {
      "name": "python3",
      "display_name": "Python 3"
    },
    "language_info": {
      "name": "python"
    }
  },
  "cells": [
    {
      "cell_type": "markdown",
      "metadata": {
        "id": "view-in-github",
        "colab_type": "text"
      },
      "source": [
        "<a href=\"https://colab.research.google.com/github/axton123/Data_Science-Lab/blob/main/DS_lab.ipynb\" target=\"_parent\"><img src=\"https://colab.research.google.com/assets/colab-badge.svg\" alt=\"Open In Colab\"/></a>"
      ]
    },
    {
      "cell_type": "code",
      "execution_count": null,
      "metadata": {
        "id": "FetcoHfBbdiR"
      },
      "outputs": [],
      "source": [
        "print(\"abcd\")"
      ]
    },
    {
      "cell_type": "markdown",
      "source": [
        "ds lab"
      ],
      "metadata": {
        "id": "LuVGcYFpnskC"
      }
    },
    {
      "cell_type": "code",
      "source": [
        "import numpy as np\n",
        "\n",
        "a = np.array([1,2,3])\n",
        "print(\"%s\" %type(a))\n",
        "print(\"%s\" %a.shape)\n",
        "\n",
        "print(a)\n",
        "print(a[0],a[1],a[2])\n",
        "a[0]=5\n",
        "print(a)\n"
      ],
      "metadata": {
        "id": "lt7z2oF9SupD",
        "colab": {
          "base_uri": "https://localhost:8080/"
        },
        "outputId": "d0efa13b-b324-4ff9-8a82-1759e2c4533f"
      },
      "execution_count": 2,
      "outputs": [
        {
          "output_type": "stream",
          "name": "stdout",
          "text": [
            "<class 'numpy.ndarray'>\n",
            "3\n",
            "[1 2 3]\n",
            "1 2 3\n",
            "[5 2 3]\n"
          ]
        }
      ]
    },
    {
      "cell_type": "code",
      "source": [
        "b = np.array([[1,2,3],\n",
        "              [4,5,6]])\n",
        "\n",
        "print(\"\\nShape of b:\",b.shape)\n",
        "\n",
        "print(b[0,0],\n",
        "      b[0,1],\n",
        "      b[1,0])"
      ],
      "metadata": {
        "id": "Qj-CqbV7jcI7"
      },
      "execution_count": null,
      "outputs": []
    },
    {
      "cell_type": "code",
      "source": [
        "a = np.zeros((3,2))\n",
        "print(\"ALL zeros:\\n%s\"%a)\n",
        "\n",
        "b = np.ones((2,2))\n",
        "print(\"\\nOnes mat:\\n%s\"%b)\n",
        "\n",
        "d = np.eye(5)\n",
        "print(\"\\nidentity mat:\\n%s\"%d)"
      ],
      "metadata": {
        "id": "Qzmph47wTm-u"
      },
      "execution_count": null,
      "outputs": []
    },
    {
      "cell_type": "code",
      "source": [
        "e = np.random.random((2,2))\n",
        "print(\"\\n random matrix: \\n%s\\n\" %e)\n",
        "\n",
        "print(\"vectorized sum example \\n\")\n",
        "x = np.array([[1,2],[3,4]])\n",
        "print(\"x:\\n %s\" %x)\n",
        "print(\"sum: %s\" %np.sum(x))\n",
        "print(\"sum axis = 0 %s\" %np.sum(x, axis=0))\n",
        "print(\"sum axis = 1 %s\" %np.sum(x, axis=1))"
      ],
      "metadata": {
        "colab": {
          "base_uri": "https://localhost:8080/"
        },
        "id": "pCe2grnQ-0Vt",
        "outputId": "30e9c39a-2151-45b0-e0eb-945652304b81"
      },
      "execution_count": 9,
      "outputs": [
        {
          "output_type": "stream",
          "name": "stdout",
          "text": [
            "\n",
            " random matrix: \n",
            "[[0.4497619  0.40958875]\n",
            " [0.26705219 0.13800319]]\n",
            "\n",
            "vectorized sum example \n",
            "\n",
            "x:\n",
            " [[1 2]\n",
            " [3 4]]\n",
            "sum: 10\n",
            "sum axis = 0 [4 6]\n",
            "sum axis = 1 [3 7]\n"
          ]
        }
      ]
    },
    {
      "cell_type": "code",
      "source": [
        "a = np.arange(5)\n",
        "b = np.arange(5)\n",
        "print(a\"\\n\")\n",
        "dp = np.dot(a,b)\n",
        "print(\"dot product: %s\\n\" %dp)\n",
        "op = np.outer(a,b)\n",
        "print(\"\\n outer product: %s\\n\" %op)\n",
        "ep = np.multiply(a,b)\n",
        "print(\"\\n element wise product: %s \\n\" %ep)"
      ],
      "metadata": {
        "colab": {
          "base_uri": "https://localhost:8080/"
        },
        "id": "0HBDsCjI6ps6",
        "outputId": "2960a3a8-3836-453f-a8c7-19638dee0295"
      },
      "execution_count": 7,
      "outputs": [
        {
          "output_type": "stream",
          "name": "stdout",
          "text": [
            "[0 1 2 3 4]\n",
            "dot product: 30\n",
            "\n",
            "\n",
            " outer product: [[ 0  0  0  0  0]\n",
            " [ 0  1  2  3  4]\n",
            " [ 0  2  4  6  8]\n",
            " [ 0  3  6  9 12]\n",
            " [ 0  4  8 12 16]]\n",
            "\n",
            "\n",
            " element wise product: [ 0  1  4  9 16] \n",
            "\n"
          ]
        }
      ]
    }
  ]
}