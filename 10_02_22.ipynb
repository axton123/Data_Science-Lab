{
  "nbformat": 4,
  "nbformat_minor": 0,
  "metadata": {
    "colab": {
      "name": "10/02/22.ipynb",
      "provenance": [],
      "authorship_tag": "ABX9TyOpRnRvO9ZDSeyUFm1ACsVM",
      "include_colab_link": true
    },
    "kernelspec": {
      "name": "python3",
      "display_name": "Python 3"
    },
    "language_info": {
      "name": "python"
    }
  },
  "cells": [
    {
      "cell_type": "markdown",
      "metadata": {
        "id": "view-in-github",
        "colab_type": "text"
      },
      "source": [
        "<a href=\"https://colab.research.google.com/github/axton123/Data_Science-Lab/blob/main/10_02_22.ipynb\" target=\"_parent\"><img src=\"https://colab.research.google.com/assets/colab-badge.svg\" alt=\"Open In Colab\"/></a>"
      ]
    },
    {
      "cell_type": "code",
      "execution_count": 6,
      "metadata": {
        "id": "Bz43RZ0lgyQb",
        "colab": {
          "base_uri": "https://localhost:8080/"
        },
        "outputId": "577c61d8-560f-4b3c-f010-4660cde27bbb"
      },
      "outputs": [
        {
          "output_type": "stream",
          "name": "stdout",
          "text": [
            "[[15  0  0]\n",
            " [ 0 15  0]\n",
            " [ 0  1 14]]\n",
            "\n",
            "\n",
            "[[15  0  0]\n",
            " [ 0 15  0]\n",
            " [ 0  1 14]]\n"
          ]
        }
      ],
      "source": [
        "import numpy as np\n",
        "import matplotlib.pyplot as plt \n",
        "import pandas as pd\n",
        "from sklearn import neighbors, datasets, preprocessing\n",
        "from sklearn.model_selection import train_test_split\n",
        "from sklearn.preprocessing import StandardScaler\n",
        "from sklearn.naive_bayes import GaussianNB, BernoulliNB, CategoricalNB\n",
        "from sklearn.metrics import confusion_matrix, accuracy_score\n",
        "\n",
        "iris = datasets.load_iris()\n",
        "\n",
        "x, y = iris.data[:,:], iris.target\n",
        "x_tr, x_te, y_tr, y_te = train_test_split(x, y, stratify = y, random_state = 0, train_size = 0.7)\n",
        "\n",
        "sc = StandardScaler()\n",
        "x_tr = sc.fit_transform(x_tr)\n",
        "x_te = sc.transform(x_te)\n",
        "\n",
        "scores = []\n",
        "classifier = GaussianNB()\n",
        "classifier.fit(x_tr, y_tr)\n",
        "\n",
        "y_pred = classifier.predict(x_te)\n",
        "scores.append(accuracy_score(y_te,y_pred))\n",
        "cm = confusion_matrix(y_te, y_pred)\n",
        "print(cm)\n",
        "\n",
        "print(\"\\n\")\n",
        "classifier1 = BernoulliNB()\n",
        "classifier1.fit(x_tr, y_tr)\n",
        "y_pred = classifier.predict(x_te)\n",
        "scores.append(accuracy_score(y_te, y_pred))\n",
        "cm = confusion_matrix(y_te, y_pred)\n",
        "print(cm)"
      ]
    },
    {
      "cell_type": "markdown",
      "source": [
        "step2\n"
      ],
      "metadata": {
        "id": "S6Vf4Jf0JL09"
      }
    },
    {
      "cell_type": "code",
      "source": [
        "from sklearn.tree import export_graphviz\n",
        "from six import StringIO\n",
        "from IPython.display import Image\n",
        "import pydotplus\n",
        "\n",
        "data = load_iris()\n",
        "print(data,data.shape)\n",
        "print('class to predict: ', data.targrt_name)\n",
        "print('Features : ', data.feature_names)"
      ],
      "metadata": {
        "id": "HdDxx5CSJO-C"
      },
      "execution_count": null,
      "outputs": []
    }
  ]
}