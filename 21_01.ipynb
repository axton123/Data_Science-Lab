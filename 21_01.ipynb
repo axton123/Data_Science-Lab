{
  "nbformat": 4,
  "nbformat_minor": 0,
  "metadata": {
    "colab": {
      "name": "21-01.ipynb",
      "provenance": [],
      "authorship_tag": "ABX9TyNVcxpKpv/0gD7KsHZ7Q/ua",
      "include_colab_link": true
    },
    "kernelspec": {
      "name": "python3",
      "display_name": "Python 3"
    },
    "language_info": {
      "name": "python"
    }
  },
  "cells": [
    {
      "cell_type": "markdown",
      "metadata": {
        "id": "view-in-github",
        "colab_type": "text"
      },
      "source": [
        "<a href=\"https://colab.research.google.com/github/axton123/Data_Science-Lab/blob/main/21_01.ipynb\" target=\"_parent\"><img src=\"https://colab.research.google.com/assets/colab-badge.svg\" alt=\"Open In Colab\"/></a>"
      ]
    },
    {
      "cell_type": "code",
      "execution_count": null,
      "metadata": {
        "id": "xuP_lxWCHB_5"
      },
      "outputs": [],
      "source": [
        "from numpy import array\n",
        "from scipy.linalg import svd\n",
        "\n",
        "A = array([[1,2],[3,4],[5,6]])\n",
        "print(\"matrix  \\n%s\\n\" %A)\n",
        "\n",
        "u,s,vt = svd(A)\n",
        "print(\"U:\\n%s\\n\"%u)\n",
        "print(\"S:\\n%s\\n\"%s)\n",
        "print(\"VT:\\n%s\\n\"%vt)"
      ]
    },
    {
      "cell_type": "markdown",
      "source": [
        "kNN"
      ],
      "metadata": {
        "id": "OEQMxZKoLezL"
      }
    },
    {
      "cell_type": "code",
      "source": [
        "from sklearn import datasets, preprocessing\n",
        "from sklearn.datasets import load_iris\n",
        "\n",
        "iris = load_iris()\n",
        "# print(iris)\n",
        "print(iris.feature_names)\n",
        "print(\"\\n\")\n",
        "print(iris.target)\n",
        "print(\"\\n\")\n",
        "print(iris.target_names)\n",
        "print(\"\\n\")\n",
        "print(iris.data.shape)"
      ],
      "metadata": {
        "colab": {
          "base_uri": "https://localhost:8080/"
        },
        "id": "pG3WidZbKau-",
        "outputId": "64904f4f-2781-4b95-956a-2c18b930f87d"
      },
      "execution_count": 12,
      "outputs": [
        {
          "output_type": "stream",
          "name": "stdout",
          "text": [
            "['sepal length (cm)', 'sepal width (cm)', 'petal length (cm)', 'petal width (cm)']\n",
            "\n",
            "\n",
            "[0 0 0 0 0 0 0 0 0 0 0 0 0 0 0 0 0 0 0 0 0 0 0 0 0 0 0 0 0 0 0 0 0 0 0 0 0\n",
            " 0 0 0 0 0 0 0 0 0 0 0 0 0 1 1 1 1 1 1 1 1 1 1 1 1 1 1 1 1 1 1 1 1 1 1 1 1\n",
            " 1 1 1 1 1 1 1 1 1 1 1 1 1 1 1 1 1 1 1 1 1 1 1 1 1 1 2 2 2 2 2 2 2 2 2 2 2\n",
            " 2 2 2 2 2 2 2 2 2 2 2 2 2 2 2 2 2 2 2 2 2 2 2 2 2 2 2 2 2 2 2 2 2 2 2 2 2\n",
            " 2 2]\n",
            "\n",
            "\n",
            "['setosa' 'versicolor' 'virginica']\n",
            "\n",
            "\n",
            "(150, 4)\n"
          ]
        }
      ]
    },
    {
      "cell_type": "code",
      "source": [
        "from sklearn.model_selection import train_test_split\n",
        "x, y = iris.data[:,:],iris.target\n",
        "x_tr, x_te, y_tr, y_te = train_test_split(x, y, stratify = y, random_state = 0, train_size = 0.7)\n",
        "\n",
        "print(\"\\nshape of train and test x :\\n\\n\")\n",
        "print(x_tr.shape)\n",
        "print(x_te.shape)\n",
        "\n",
        "print(\"\\n\\nshape of train and test y :\\n\\n\")\n",
        "print(y_tr.shape)\n",
        "print(y_te.shape)\n",
        "\n",
        "scaler = preprocessing.StandardScaler().fit(x_tr)\n",
        "x_tr = scaler.transform(x_tr)\n",
        "x_te = scaler.transform(x_te)\n",
        "print(\"\\nscaled data\\n\")\n",
        "print(x_tr)\n",
        "print(\"\\n\\n\")\n",
        "print(x_te)\n"
      ],
      "metadata": {
        "id": "D5sR5TODSD5-"
      },
      "execution_count": null,
      "outputs": []
    }
  ]
}